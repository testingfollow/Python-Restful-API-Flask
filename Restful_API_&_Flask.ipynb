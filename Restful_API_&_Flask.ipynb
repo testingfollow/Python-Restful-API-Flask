{
  "nbformat": 4,
  "nbformat_minor": 0,
  "metadata": {
    "colab": {
      "provenance": []
    },
    "kernelspec": {
      "name": "python3",
      "display_name": "Python 3"
    },
    "language_info": {
      "name": "python"
    }
  },
  "cells": [
    {
      "cell_type": "markdown",
      "source": [
        "# Theory Questions and Answers"
      ],
      "metadata": {
        "id": "KagBYU3I4j7J"
      }
    },
    {
      "cell_type": "markdown",
      "source": [
        "1.\tWhat is a RESTful API.?\n",
        "  - A RESTful API, also known as a REST API, is an application programming interface that adheres to the architectural principles of Representational State Transfer (REST). REST is an architectural style for designing networked applications, particularly web services.  "
      ],
      "metadata": {
        "id": "6sS0Bfc-4qiY"
      }
    },
    {
      "cell_type": "markdown",
      "source": [
        "2.\tExplain the concept of API specification.?\n",
        " - API specification is a formal, machine-readable document that serves as a blueprint for an Application Programming Interface (API). It details the API's structure, behavior, and the rules for interacting with it. Rather than being a set of instructions for end-users, an API specification is primarily intended for developers who are building or integrating with the API."
      ],
      "metadata": {
        "id": "eAnyUxT9de70"
      }
    },
    {
      "cell_type": "markdown",
      "source": [
        "3.\tWhat is Flask, and why is it popular for building APIs.?\n",
        "  - Flask is a micro web framework written in Python. It is designed to be lightweight and flexible, providing the essential tools for building web applications and leaving many choices about features like database integration or ORMs (Object Relational Mappers) to the developer."
      ],
      "metadata": {
        "id": "WXZx-vOpdnUp"
      }
    },
    {
      "cell_type": "markdown",
      "source": [
        "4.\tWhat is routing in Flask.?\n",
        " - Routing in Flask is the mechanism that maps URL patterns to specific Python functions, known as view functions, within a web application. When a user accesses a particular URL in their browser, Flask's routing system determines which view function should handle that request and return a response.\n",
        "\n",
        " - This process is typically achieved using the @app.route() decorator. This decorator is placed above a Python function and specifies the URL path that, when accessed, will trigger the execution of that function.\n"
      ],
      "metadata": {
        "id": "GqWF6x-MdtZZ"
      }
    },
    {
      "cell_type": "markdown",
      "source": [
        "5.\tHow do you create a simple Flask application.?\n",
        "  - Python: Ensure you have Python 3.x installed on your system.\n",
        "  - Text Editor or IDE: Use a text editor like VS Code or an IDE like PyCharm  to write your code.\n",
        "  - Virtual Environment (Recommended): It's good practice to create and activate a virtual environment for your project to manage dependencies.\n",
        " - Create the virtual environment: python -m venv myproject\n",
        "  Activate it:\n",
        " -  macOS/Linux: source myproject/bin/activate\n",
        " -  Windows: myproject\\Scripts\\activate\n",
        " - Install Flask\n",
        "  With the virtual environment activated, install Flask using pip:\n",
        "  Bash\n",
        " - pip install Flask\n"
      ],
      "metadata": {
        "id": "6bwV6p5-d4u4"
      }
    },
    {
      "cell_type": "markdown",
      "source": [
        "6.\tWhat are HTTP methods used in RESTful APIs.?\n",
        " - HTTP methods, also known as HTTP verbs, define the type of action a client wants to perform on a resource within a RESTful API. These methods directly map to the standard CRUD (Create, Read, Update, Delete) operations. The most commonly used HTTP methods in REST APIs."
      ],
      "metadata": {
        "id": "AtWng1r8fB1o"
      }
    },
    {
      "cell_type": "markdown",
      "source": [
        "7.\tWhat is the purpose of the @app.route() decorator in Flask.?\n",
        " - The app.route() decorator in Flask serves the purpose of defining URL routing for a web application. It maps a specific URL path to a Python function that will be executed when a client requests that URL.\n",
        "Key functions of the app.route() decorator.\n"
      ],
      "metadata": {
        "id": "ZL5dfQDzfH_W"
      }
    },
    {
      "cell_type": "markdown",
      "source": [
        "8.\tWhat is the difference between GET and POST HTTP methods.?\n",
        "  - The GET and POST methods are two of the most commonly used HTTP methods for interacting with web servers, but they differ significantly in their purpose and how they handle data.\n",
        " - Purpose\n",
        " - GET: Used to request data from a specified resource on the server. It should only retrieve data and not alter the server's state.\n",
        " - POST: Used to send data to the server to create or update a resource. It is often used for submitting HTML forms or uploading files.\n",
        " Data Transmission\n",
        " - GET: Data is appended to the URL as query string parameters, making it visible in the browser's address bar and server logs.\n",
        "  - POST: Data is included in the request body, making it hidden from the URL.\n"
      ],
      "metadata": {
        "id": "TK_M-vzqfNFW"
      }
    },
    {
      "cell_type": "markdown",
      "source": [
        "9.\tHow do you handle errors in Flask APIs.?\n",
        "  - Error handling in a Flask API involves catching exceptions and returning appropriate HTTP responses to the client. This ensures robustness and provides clear feedback to API consumers."
      ],
      "metadata": {
        "id": "nOIwg6XSfaZl"
      }
    },
    {
      "cell_type": "markdown",
      "source": [
        "10.\tHow do you connect Flask to a SQL database.?\n",
        "  - Flask, being a microframework, offers flexibility when it comes to integrating with SQL databases. You can connect your Flask application to various SQL databases like MySQL, PostgreSQL, SQLite, etc., using either raw database drivers or Object Relational Mappers (ORMs) like SQLAlchemy.\n",
        "  Ensure you have a SQL database server running (e.g., MySQL, PostgreSQL) or you're using an embedded database like SQLite.\n",
        " - Create a database within your chosen DBMS.\n",
        " - Install Flask-SQLAlchemy: pip install Flask Flask-SQLAlchemy\n",
        " - Configure the Flask application:\n",
        " - Set the SQLALCHEMY_DATABASE_URI in your Flask application's configuration. This URI specifies the type of database, connection details (username, password, host, port), and the database name.\n",
        " Optionally, set SQLALCHEMY_TRACK_MODIFICATIONS to False to suppress warnings and improve performance if you don't need to track object modifications.\n",
        " - Define database models:\n",
        " - Create Python classes that inherit from db.Model to represent your database tables.\n",
        " - Define columns using db.Column and specify data types, primary keys, and other constraints.\n",
        " - Create database tables:\n",
        " - Inside your application context, use db.create_all() to create the tables defined in your models within the specified database. This is typically done once during application setup or migration.\n",
        " - Interact with the database:\n",
        " Use the db.session object to add, query, update, and delete data from your database.\n",
        " - Commit changes to the database using db.session.commit().\n"
      ],
      "metadata": {
        "id": "TRD6v8Rzffy1"
      }
    },
    {
      "cell_type": "markdown",
      "source": [
        "11.\tWhat is the role of Flask-SQLAlchemy.?\n",
        " - Flask-SQLAlchemy is a Flask extension that makes using SQLAlchemy with Flask easier, providing you tools and methods to interact with your database in your Flask applications through SQLAlchemy. In this tutorial, you'll build a small student management system that demonstrates how to use the Flask-SQLAlchemy extension."
      ],
      "metadata": {
        "id": "YAr4nWG9gTdV"
      }
    },
    {
      "cell_type": "markdown",
      "source": [
        "12.\tWhat are Flask blueprints, and how are they useful.?\n",
        " - Flask Blueprints are a mechanism in the Flask web framework for organizing and structuring applications into modular, reusable components. Instead of defining all routes, templates, and static files directly within a single Flask application instance, blueprints allow you to encapsulate related functionalities into independent units."
      ],
      "metadata": {
        "id": "Z3XR4N0NgYt6"
      }
    },
    {
      "cell_type": "markdown",
      "source": [
        "13.\tWhat is the purpose of Flask’s request object.?\n",
        " - The purpose of Flask's request object is to provide access to all incoming HTTP request data within a Flask application. It acts as a container for information sent by the client to the server."
      ],
      "metadata": {
        "id": "849D_C4bgdR6"
      }
    },
    {
      "cell_type": "markdown",
      "source": [
        "14.\tHow do you create a RESTful API endpoint using Flask.?\n",
        "  - Creating a RESTful API endpoint using Flask involves defining routes that correspond to specific HTTP methods (GET, POST, PUT, DELETE) and handling requests and responses within those routes."
      ],
      "metadata": {
        "id": "snZebjgAgjaq"
      }
    },
    {
      "cell_type": "markdown",
      "source": [
        "15.\tWhat is the purpose of Flask’s jsonify() function.?\n",
        " - The jsonify() function in Flask serves the purpose of simplifying the process of returning JSON-formatted responses from a Flask application, especially when building APIs."
      ],
      "metadata": {
        "id": "xe2EKxYRgpHD"
      }
    },
    {
      "cell_type": "markdown",
      "source": [
        "16.\tExplain Flask’s url_for() function.?\n",
        " - The url_for() function in Flask is a utility used to dynamically build URLs for various resources within a Flask application. Its primary purpose is to avoid hardcoding URLs, which makes the application more maintainable and adaptable to changes in URL structures."
      ],
      "metadata": {
        "id": "cM9g5lk3gvvq"
      }
    },
    {
      "cell_type": "markdown",
      "source": [
        "17.\tHow does Flask handle static files (CSS,JavaScript,etc.)?\n",
        " - Flask provides a straightforward mechanism for handling static files such as CSS stylesheets, JavaScript files, images, and other assets that are served directly to the client's browser without dynamic processing."
      ],
      "metadata": {
        "id": "MnbpARlsg1PC"
      }
    },
    {
      "cell_type": "markdown",
      "source": [
        "18.\tWhat is an API specification, and how does it help in building a Flask API.?\n",
        "  - API specification, often referred to as an OpenAPI Specification (formerly Swagger Specification), is a language-agnostic, human-readable, and machine-readable interface description for RESTful APIs. It defines the structure of your API, including available endpoints, HTTP methods, request parameters, response formats, authentication methods, and error handling."
      ],
      "metadata": {
        "id": "vlCp8H6Cg7KS"
      }
    },
    {
      "cell_type": "markdown",
      "source": [
        "19.\tWhat are HTTP status codes, and why are they important in a Flask API.?\n",
        "  - HTTP status codes are three-digit numerical codes returned by a server in response to an HTTP request from a client. They communicate the outcome of the request, indicating whether it was successful, redirected, or encountered an error.\n",
        " - Clear Communication with Clients:\n",
        "Status codes provide a standardized way for your Flask API to inform clients (e.g., web browsers, mobile apps, other APIs) about the result of their requests. This allows clients to understand what happened and react accordingly. For example, a 200 (OK) indicates success, while a 404 (Not Found) clearly states the requested resource doesn't exist.\n",
        " - Error Handling and Debugging:\n",
        "By using appropriate status codes for different error scenarios (e.g., 400 Bad Request for invalid input, 401 Unauthorized for missing authentication, 500 Internal Server Error for server-side issues), you enable clients and developers to quickly identify and diagnose problems. This significantly aids in debugging and troubleshooting."
      ],
      "metadata": {
        "id": "wsWWml3dhBCa"
      }
    },
    {
      "cell_type": "markdown",
      "source": [
        "20.\tHow do you handle POST requests in Flask.?\n",
        " - Handling POST requests in Flask involves defining routes that specifically accept the POST method and then accessing the data sent in the request body."
      ],
      "metadata": {
        "id": "lvx8SE25hS2A"
      }
    },
    {
      "cell_type": "markdown",
      "source": [
        "21.\tHow would you secure a Flask API.?\n",
        "  - Securing a Flask API involves implementing several layers of protection to safeguard against various threats.\n",
        " - Authentication and Authorization:\n",
        " - Token-Based Authentication (e.g., JWT):\n",
        "  This is a common method for APIs. Upon successful login, a server issues a JSON Web Token (JWT) to the client. This token is then sent with subsequent requests and validated on the server side to authenticate the user and authorize access to specific resources based on the token's claims (e.g., user roles, permissions). Libraries like Flask-JWT-Extended simplify this process.\n",
        "  - API Keys:\n",
        "  For specific use cases, API keys can provide a simpler form of authentication. Keys are generated and provided to authorized clients, who then include them in request headers or as query parameters.\n"
      ],
      "metadata": {
        "id": "nYQG7MgyhYWQ"
      }
    },
    {
      "cell_type": "markdown",
      "source": [
        "22.\tWhat is the significance of the Flask-RESTful extension.?\n",
        "  - Flask-RESTful's significance lies in simplifying Flask-based REST API development by providing structured tools for creating resources, handling HTTP methods, and automating request parsing and response formatting. It allows for cleaner, object-oriented code, incorporates features like built-in input validation, error handling, and rate limiting, and integrates seamlessly with other Flask extensions, making it easier to build robust, scalable, and maintainable APIs."
      ],
      "metadata": {
        "id": "el0YxcvghjP4"
      }
    },
    {
      "cell_type": "markdown",
      "source": [
        "23.\tWhat is the role of Flask’s session object.?\n",
        "  - Flask's session object provides a way to store user-specific data across multiple requests, allowing applications to maintain state, remember user actions like login status or shopping cart contents, and personalize the user experience. It functions like a dictionary, storing data in a cryptographically signed cookie that is sent between the user's browser and the server, all secured by a SECRET_KEY."
      ],
      "metadata": {
        "id": "4YejQzUdhqEQ"
      }
    },
    {
      "cell_type": "markdown",
      "source": [
        "# Practical Questions and Answers"
      ],
      "metadata": {
        "id": "boFySVXsh3Ag"
      }
    },
    {
      "cell_type": "markdown",
      "source": [
        "1.\tHow do you create a basic Flask application.?"
      ],
      "metadata": {
        "id": "o7KTXWmeh8E5"
      }
    },
    {
      "cell_type": "code",
      "source": [
        "        python -m venv venv  #Set up a Project Directory and Virtual Environment"
      ],
      "metadata": {
        "id": "ShWNRL8Jh-WS"
      },
      "execution_count": null,
      "outputs": []
    },
    {
      "cell_type": "code",
      "source": [
        "        pip install Flask   # Install Flask:"
      ],
      "metadata": {
        "id": "80oSF1d-mcpf"
      },
      "execution_count": null,
      "outputs": []
    },
    {
      "cell_type": "code",
      "source": [
        "        #Create the Flask Application File:\n",
        "        from flask import Flask\n",
        "\n",
        "        app = Flask(__name__)\n",
        "\n",
        "        @app.route('/')\n",
        "        def hello_world():\n",
        "            return 'Hello, Flask!'\n",
        "\n",
        "        if __name__ == '__main__':\n",
        "            app.run(debug=True)"
      ],
      "metadata": {
        "id": "KWQigRvnmuDH"
      },
      "execution_count": null,
      "outputs": []
    },
    {
      "cell_type": "code",
      "source": [
        "        # Run the Application:\n",
        "        python app.py"
      ],
      "metadata": {
        "id": "OIeBP5z8m-p2"
      },
      "execution_count": null,
      "outputs": []
    },
    {
      "cell_type": "markdown",
      "source": [
        "2.\tHow do you serve static files like images or CSS in Flask.?"
      ],
      "metadata": {
        "id": "i5UmYlrxnZPN"
      }
    },
    {
      "cell_type": "code",
      "source": [
        "import os\n",
        "\n",
        "os.makedirs('static', exist_ok=True)\n",
        "\n",
        "with open('static/style.css', 'w') as f:\n",
        "    f.write('body {background-color: lightblue;}')\n",
        "\n",
        "from flask import Flask, url_for\n",
        "\n",
        "app = Flask(__name__)\n",
        "\n",
        "@app.route('/')\n",
        "def home():\n",
        "    return '''\n",
        "    <html>\n",
        "    <head>\n",
        "        <link rel=\"stylesheet\" href=\"{}\">\n",
        "    </head>\n",
        "    <body>\n",
        "        <h1>Hello, styled Flask!</h1>\n",
        "    </body>\n",
        "    </html>\n",
        "    '''.format(url_for('static', filename='style.css'))\n",
        "\n",
        "if __name__ == '__main__':\n",
        "    app.run()"
      ],
      "metadata": {
        "id": "I7fztCa_nkO8"
      },
      "execution_count": null,
      "outputs": []
    },
    {
      "cell_type": "markdown",
      "source": [
        "3.\tHow do you define different routes with different HTTP methods in Flask.?"
      ],
      "metadata": {
        "id": "evyGl_B6mLrk"
      }
    },
    {
      "cell_type": "code",
      "source": [
        "from flask import Flask, request\n",
        "\n",
        "app = Flask(__name__)\n",
        "\n",
        "@app.route('/login', methods=['GET', 'POST'])\n",
        "def login():\n",
        "    if request.method == 'POST':\n",
        "        # Handle the POST request, such as processing a form\n",
        "        username = request.form.get('username')\n",
        "        return f'Logged in as {username}!'\n",
        "    else:\n",
        "        # Handle the GET request, such as displaying the login form\n",
        "        return 'Please log in with a POST request.'\n",
        "\n",
        "if __name__ == '__main__':\n",
        "    app.run(debug=True)"
      ],
      "metadata": {
        "id": "RjaW5HwUmekt"
      },
      "execution_count": null,
      "outputs": []
    },
    {
      "cell_type": "markdown",
      "source": [
        "4.\tHow do you render HTML templates in Flask.?"
      ],
      "metadata": {
        "id": "MIrfmDre91bs"
      }
    },
    {
      "cell_type": "code",
      "source": [
        "from flask import Flask, render_template\n",
        "\n",
        "app = Flask(__name__)\n",
        "\n",
        "@app.route('/')\n",
        "def home():\n",
        "    return render_template('index.html')\n",
        "\n",
        "if __name__ == '__main__':\n",
        "    app.run(debug=True)\n",
        "\n",
        "\n",
        "#templates/index.html\n",
        "\n",
        "\n",
        "<!DOCTYPE html>\n",
        "<html>\n",
        "<head>\n",
        "    <title>Flask Template</title>\n",
        "</head>\n",
        "<body>\n",
        "    <h1>Hello from Flask template!</h1>\n",
        "</body>\n",
        "</html>"
      ],
      "metadata": {
        "id": "hIvTu5G_97pU"
      },
      "execution_count": null,
      "outputs": []
    },
    {
      "cell_type": "markdown",
      "source": [
        "5.\tHow can you generate URLs for routes in Flask using url_for.?"
      ],
      "metadata": {
        "id": "Kboy4e6C-X2y"
      }
    },
    {
      "cell_type": "code",
      "source": [
        "from flask import Flask, url_for\n",
        "\n",
        "app = Flask(__name__)\n",
        "\n",
        "@app.route('/')\n",
        "def home():\n",
        "    return \"Home Page\"\n",
        "\n",
        "@app.route('/user/<username>')\n",
        "def profile(username):\n",
        "    return f\"User: {username}\"\n",
        "\n",
        "@app.route('/links')\n",
        "def links():\n",
        "    # Generate URLs dynamically\n",
        "    home_url = url_for('home')\n",
        "    profile_url = url_for('profile', username='alice')\n",
        "    return f'Home URL: {home_url} <br> Profile URL: {profile_url}'\n",
        "\n",
        "if __name__ == '__main__':\n",
        "    app.run(debug=True)"
      ],
      "metadata": {
        "id": "TU29H2Ou-aNy"
      },
      "execution_count": null,
      "outputs": []
    },
    {
      "cell_type": "markdown",
      "source": [
        "6.\tHow do you handle forms in Flask.?"
      ],
      "metadata": {
        "id": "2NaHUd7z-gJS"
      }
    },
    {
      "cell_type": "code",
      "source": [
        "from flask import Flask, render_template, request\n",
        "\n",
        "app = Flask(__name__)\n",
        "\n",
        "@app.route('/form', methods=['GET', 'POST'])\n",
        "def form():\n",
        "    if request.method == 'POST':\n",
        "        name = request.form['name']\n",
        "        email = request.form['email']\n",
        "        return f\"Received: Name={name}, Email={email}\"\n",
        "    return render_template('form.html')\n",
        "\n",
        "if __name__ == '__main__':\n",
        "    app.run(debug=True)\n"
      ],
      "metadata": {
        "id": "LXV_Jajq-jBR"
      },
      "execution_count": null,
      "outputs": []
    },
    {
      "cell_type": "markdown",
      "source": [
        "7.\tHow can you validate form data in Flask.?"
      ],
      "metadata": {
        "id": "7RsuddbZ-rkp"
      }
    },
    {
      "cell_type": "code",
      "source": [
        "from flask import Flask, request, render_template\n",
        "\n",
        "app = Flask(__name__)\n",
        "\n",
        "@app.route('/form', methods=['GET', 'POST'])\n",
        "def form():\n",
        "    error = None\n",
        "    if request.method == 'POST':\n",
        "        name = request.form.get('name')\n",
        "        email = request.form.get('email')\n",
        "\n",
        "        if not name or not email:\n",
        "            error = \"Both name and email are required!\"\n",
        "        else:\n",
        "            return f\"Form submitted: Name = {name}, Email = {email}\"\n",
        "\n",
        "    return render_template('form.html', error=error)"
      ],
      "metadata": {
        "id": "wBm325fZ-sGJ"
      },
      "execution_count": null,
      "outputs": []
    },
    {
      "cell_type": "markdown",
      "source": [
        "8.\tHow do you manage sessions in Flask.?"
      ],
      "metadata": {
        "id": "YQBniGd__kam"
      }
    },
    {
      "cell_type": "code",
      "source": [
        "from flask import Flask, session, redirect, url_for, request\n",
        "\n",
        "app = Flask(__name__)\n",
        "app.secret_key = 'your_secret_key'  # Required to use sessions securely\n",
        "\n",
        "@app.route('/')\n",
        "def index():\n",
        "    if 'username' in session:\n",
        "        return f'Logged in as {session[\"username\"]}'\n",
        "    return 'You are not logged in.'\n",
        "\n",
        "@app.route('/login', methods=['GET', 'POST'])\n",
        "def login():\n",
        "    if request.method == 'POST':\n",
        "        session['username'] = request.form['username']\n",
        "        return redirect(url_for('index'))\n",
        "    return '''\n",
        "        <form method=\"post\">\n",
        "            <input type=\"text\" name=\"username\">\n",
        "            <input type=\"submit\" value=\"Login\">\n",
        "        </form>\n",
        "    '''\n",
        "\n",
        "@app.route('/logout')\n",
        "def logout():\n",
        "    session.pop('username', None)\n",
        "    return redirect(url_for('index'))\n",
        "\n",
        "if __name__ == '__main__':\n",
        "    app.run(debug=True)"
      ],
      "metadata": {
        "id": "y2BJ65Vw_oj-"
      },
      "execution_count": null,
      "outputs": []
    },
    {
      "cell_type": "markdown",
      "source": [
        "9.\tHow do you redirect to a different route in Flask.?"
      ],
      "metadata": {
        "id": "mv3trYV3_vD9"
      }
    },
    {
      "cell_type": "code",
      "source": [
        "from flask import Flask, redirect, url_for\n",
        "\n",
        "app = Flask(__name__)\n",
        "\n",
        "@app.route('/')\n",
        "def home():\n",
        "    return 'Home Page'\n",
        "\n",
        "@app.route('/login')\n",
        "def login():\n",
        "    return 'Login Page'\n",
        "\n",
        "@app.route('/go-to-login')\n",
        "def go_to_login():\n",
        "    return redirect(url_for('login'))  # Redirects to /login\n",
        "\n",
        "if __name__ == '__main__':\n",
        "    app.run(debug=True)"
      ],
      "metadata": {
        "id": "U_soZMSk_z6d"
      },
      "execution_count": null,
      "outputs": []
    },
    {
      "cell_type": "markdown",
      "source": [
        "10.\tHow do you handle errors in Flask (e.g.,404).?"
      ],
      "metadata": {
        "id": "ycPGhiUG_4vV"
      }
    },
    {
      "cell_type": "code",
      "source": [
        "from flask import Flask, render_template\n",
        "\n",
        "app = Flask(__name__)\n",
        "\n",
        "@app.route('/')\n",
        "def home():\n",
        "    return 'Welcome to the homepage!'\n",
        "\n",
        "# Handle 404 errors (Page Not Found)\n",
        "@app.errorhandler(404)\n",
        "def page_not_found(e):\n",
        "    return render_template('404.html'), 404\n",
        "\n",
        "if __name__ == '__main__':\n",
        "    app.run(debug=True)\n",
        "<!DOCTYPE html>\n",
        "<html>\n",
        "<head><title>Page Not Found</title></head>\n",
        "<body>\n",
        "    <h1>404 - Page Not Found</h1>\n",
        "    <p>Oops! The page you're looking for doesn't exist.</p>\n",
        "    <a href=\"{{ url_for('home') }}\">Go to Home</a>\n",
        "</body>\n",
        "</html>"
      ],
      "metadata": {
        "id": "WcZtqc4H_7gs"
      },
      "execution_count": null,
      "outputs": []
    },
    {
      "cell_type": "markdown",
      "source": [
        "11.\tHow do you structure a Flask app using Blueprints.?"
      ],
      "metadata": {
        "id": "yhqVGgqVABt0"
      }
    },
    {
      "cell_type": "code",
      "source": [
        "from flask import Blueprint, render_template\n",
        "\n",
        "auth_bp = Blueprint('auth', __name__, url_prefix='/auth')\n",
        "\n",
        "@auth_bp.route('/login')\n",
        "def login():\n",
        "    return render_template('login.html')\n",
        "from flask import Flask\n",
        "from auth.routes import auth_bp  # Import your blueprint\n",
        "\n",
        "app = Flask(__name__)\n",
        "app.secret_key = 'your_secret'\n",
        "\n",
        "# Register blueprint\n",
        "app.register_blueprint(auth_bp)\n",
        "\n",
        "@app.route('/')\n",
        "def home():\n",
        "    return \"Home Page\"\n",
        "\n",
        "if __name__ == '__main__':\n",
        "    app.run(debug=True)\n",
        "<!DOCTYPE html>\n",
        "<html>\n",
        "<head><title>Login</title></head>\n",
        "<body>\n",
        "    <h1>Login Page (from auth blueprint)</h1>\n",
        "</body>\n",
        "</html>"
      ],
      "metadata": {
        "id": "oZgDMVx1AYMD"
      },
      "execution_count": null,
      "outputs": []
    },
    {
      "cell_type": "markdown",
      "source": [
        "12.\tHow do you define a custom jinja filter in Flask.?"
      ],
      "metadata": {
        "id": "YDMtetv7AlLi"
      }
    },
    {
      "cell_type": "code",
      "source": [
        "def reverse_string(s):\n",
        "    return s[::-1]\n",
        "from flask import Flask\n",
        "\n",
        "app = Flask(__name__)\n",
        "\n",
        "@app.template_filter('reverse')\n",
        "def reverse_string(s):\n",
        "    return s[::-1]\n",
        "app.jinja_env.filters['reverse'] = reverse_string"
      ],
      "metadata": {
        "id": "xL8Dn5a7Al1C"
      },
      "execution_count": null,
      "outputs": []
    },
    {
      "cell_type": "markdown",
      "source": [
        "13.\tHow can you redirect with query parameters in Flask.?"
      ],
      "metadata": {
        "id": "xqvAoxtwAp1b"
      }
    },
    {
      "cell_type": "code",
      "source": [
        "from flask import Flask, redirect, url_for, request\n",
        "\n",
        "app = Flask(__name__)\n",
        "\n",
        "@app.route('/')\n",
        "def home():\n",
        "    return redirect(url_for('greet', name='Alice', lang='en'))\n",
        "\n",
        "@app.route('/greet')\n",
        "def greet():\n",
        "    name = request.args.get('name')\n",
        "    lang = request.args.get('lang')\n",
        "    return f\"Hello {name}, language: {lang}\"\n",
        "\n",
        "if __name__ == '__main__':\n",
        "    app.run(debug=True)\n"
      ],
      "metadata": {
        "id": "5sRMz00FAseq"
      },
      "execution_count": null,
      "outputs": []
    },
    {
      "cell_type": "markdown",
      "source": [
        "14.\tHow do you return JSON responses in Flask.?"
      ],
      "metadata": {
        "id": "H9fRN_6DAyGJ"
      }
    },
    {
      "cell_type": "code",
      "source": [
        "from flask import Flask, jsonify\n",
        "\n",
        "app = Flask(__name__)\n",
        "\n",
        "@app.route('/api/data')\n",
        "def get_data():\n",
        "    return jsonify({\n",
        "        'name': 'Alice',\n",
        "        'age': 30,\n",
        "        'status': 'active'\n",
        "    })\n",
        "\n",
        "if __name__ == '__main__':\n",
        "    app.run(debug=True)"
      ],
      "metadata": {
        "id": "CZHCQADnA0ka"
      },
      "execution_count": null,
      "outputs": []
    },
    {
      "cell_type": "markdown",
      "source": [
        "15.\tHow do you capture URL parameters in Flask.?"
      ],
      "metadata": {
        "id": "mMHYJBsXA4Px"
      }
    },
    {
      "cell_type": "code",
      "source": [
        "from flask import Flask\n",
        "\n",
        "app = Flask(__name__)\n",
        "\n",
        "@app.route('/user/<username>')\n",
        "def show_user(username):\n",
        "    return f'Hello, {username}!'\n"
      ],
      "metadata": {
        "id": "BO6xkZvXA7PJ"
      },
      "execution_count": null,
      "outputs": []
    }
  ]
}